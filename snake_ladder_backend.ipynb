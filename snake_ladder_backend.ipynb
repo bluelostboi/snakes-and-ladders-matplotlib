{
 "cells": [
  {
   "cell_type": "code",
   "execution_count": 1,
   "id": "1bb46e2b-d43e-446c-b2ed-86a398bfcbec",
   "metadata": {},
   "outputs": [],
   "source": [
    "from IPython.display import clear_output\n",
    "import numpy as np\n",
    "import matplotlib.pyplot as plt"
   ]
  },
  {
   "cell_type": "code",
   "execution_count": 2,
   "id": "d4a44750-57f6-4290-9624-615740f60db4",
   "metadata": {},
   "outputs": [],
   "source": [
    "grid_size = 5\n",
    "boxes = grid_size * grid_size"
   ]
  },
  {
   "cell_type": "code",
   "execution_count": 3,
   "id": "8b56cdaa",
   "metadata": {},
   "outputs": [],
   "source": [
    "#Create player class for creating instance of a player\n",
    "\n",
    "class Player():\n",
    "    def __init__(self,player_name):\n",
    "        self.player_name = player_name\n",
    "        self.current_postn = 1\n",
    "    \n",
    "    # Method for updating postion of player rolling dice\n",
    "    def roll_dice(self,dice_read):\n",
    "        self.current_postn += dice_read\n",
    "    \n",
    "    #method to reset scores after game over\n",
    "    def reset_score(self):\n",
    "        self.current_postn = 0"
   ]
  },
  {
   "cell_type": "code",
   "execution_count": 4,
   "id": "9a139a71",
   "metadata": {},
   "outputs": [],
   "source": [
    "#Function to start game\n",
    "\n",
    "def game(player, dice_read):\n",
    "    # define number of boxes/position\n",
    "    #should be a square\n",
    "    winner = \"\"\n",
    "    if player.current_postn + dice_read > boxes :\n",
    "        print(\"Score exceeds max possible position\")\n",
    "    else :\n",
    "        player.roll_dice(dice_read)\n",
    "        if player.current_postn == boxes :\n",
    "            winner = player.player_name\n",
    "            print(player.player_name, \" wins\")\n",
    "    return winner"
   ]
  },
  {
   "cell_type": "code",
   "execution_count": 5,
   "id": "080494e4",
   "metadata": {},
   "outputs": [],
   "source": [
    "# create players automatically\n",
    "players = []\n",
    "def create_players():\n",
    "    #create players if no players created yet\n",
    "    if players == []:\n",
    "        player_names = [\"one\",\"two\",\"three\",\"four\"]\n",
    "        for i in player_names:\n",
    "            p = Player(player_name=i)\n",
    "            players.append(p)"
   ]
  },
  {
   "cell_type": "code",
   "execution_count": 6,
   "id": "f4068456",
   "metadata": {},
   "outputs": [],
   "source": [
    "#reset game after game over\n",
    "def reset(players):\n",
    "    for i in players:\n",
    "        i.reset_score()"
   ]
  },
  {
   "cell_type": "code",
   "execution_count": 7,
   "id": "f6124d4c-eedd-40af-b2e9-1a01cbf711c0",
   "metadata": {},
   "outputs": [
    {
     "data": {
      "text/plain": [
       "2"
      ]
     },
     "execution_count": 7,
     "metadata": {},
     "output_type": "execute_result"
    }
   ],
   "source": [
    "#create function to get dice read automatically using random function\n",
    "import random\n",
    "def dice_roll():\n",
    "    dice_nos = range(1,7)\n",
    "    return random.choice(dice_nos)\n",
    "dice_roll()"
   ]
  },
  {
   "cell_type": "code",
   "execution_count": 38,
   "id": "2c11beb6-f0ab-4204-bb3a-38e8b40b1393",
   "metadata": {},
   "outputs": [],
   "source": [
    "def plot_board():\n",
    "    #create figure using matplotlib\n",
    "    fig, ax = plt.subplots()\n",
    "    #dont show axes\n",
    "    plt.axis('off')\n",
    "    #set figure size\n",
    "    plt.rcParams['figure.figsize'] = [10, 10]\n",
    "    position = range(1,grid_size+1)\n",
    "    #create matrix of grid size square\n",
    "    arr = np.reshape(range(boxes,0,-1),(grid_size,grid_size))\n",
    "    ax.matshow(arr)\n",
    "\n",
    "    for i in range(grid_size):\n",
    "        #get alternate reversed arrays\n",
    "        r = list(reversed(arr[i])) if (i+1)%2==0 else arr[i]\n",
    "        for j in range(grid_size):\n",
    "            #no of box\n",
    "            c = r[j]\n",
    "            #players at this position\n",
    "            plrs = [p.player_name for p in players if p.current_postn == c]\n",
    "            if plrs : c = str(c) + '\\n' + str(plrs)\n",
    "            ax.text(j, i, str(c), va='center', ha='center', size='large')\n",
    "    return plt.show()"
   ]
  },
  {
   "cell_type": "code",
   "execution_count": 40,
   "id": "47f91d19",
   "metadata": {},
   "outputs": [],
   "source": [
    "# function to play the game\n",
    "import time\n",
    "\n",
    "def play(players):\n",
    "    plot_board()\n",
    "    winner = ''\n",
    "    while winner == '':\n",
    "        #show current scores of players\n",
    "        for i in players:\n",
    "            print(i.player_name,' is at ',i.current_postn)\n",
    "            dice_r = dice_roll()\n",
    "            #show current player\n",
    "            print(i.player_name,' : ',dice_r)\n",
    "            winner = game(i, dice_r)\n",
    "            time.sleep(0.5)\n",
    "            clear_output(wait=True)\n",
    "            plot_board()\n",
    "            if winner != '':\n",
    "                print(\"Game Over\")\n",
    "                reset(players)\n",
    "                break"
   ]
  },
  {
   "cell_type": "code",
   "execution_count": 43,
   "id": "96582f2d-5cac-4b30-b737-d153da18044c",
   "metadata": {},
   "outputs": [
    {
     "data": {
      "image/png": "[encoded data removed]",
      "text/plain": [
       "<Figure size 720x720 with 1 Axes>"
      ]
     },
     "metadata": {
      "needs_background": "light"
     },
     "output_type": "display_data"
    },
    {
     "name": "stdout",
     "output_type": "stream",
     "text": [
      "Game Over\n"
     ]
    }
   ],
   "source": [
    "create_players()\n",
    "play(players)"
   ]
  },
  {
   "cell_type": "code",
   "execution_count": null,
   "id": "16c01672-feea-45c4-b4e7-ccb5cc720bbb",
   "metadata": {},
   "outputs": [],
   "source": []
  }
 ],
 "metadata": {
  "kernelspec": {
   "display_name": "Python 3 (ipykernel)",
   "language": "python",
   "name": "python3"
  },
  "language_info": {
   "codemirror_mode": {
    "name": "ipython",
    "version": 3
   },
   "file_extension": ".py",
   "mimetype": "text/x-python",
   "name": "python",
   "nbconvert_exporter": "python",
   "pygments_lexer": "ipython3",
   "version": "3.10.4"
  }
 },
 "nbformat": 4,
 "nbformat_minor": 5
}
