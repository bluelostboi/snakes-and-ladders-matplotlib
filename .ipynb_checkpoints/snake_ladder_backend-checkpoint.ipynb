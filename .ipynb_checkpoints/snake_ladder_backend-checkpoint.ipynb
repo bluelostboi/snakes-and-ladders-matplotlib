{
 "cells": [
  {
   "cell_type": "code",
   "execution_count": 3,
   "id": "1bb46e2b-d43e-446c-b2ed-86a398bfcbec",
   "metadata": {},
   "outputs": [],
   "source": [
    "from IPython.display import clear_output\n",
    "import numpy as np\n",
    "import matplotlib.pyplot as plt"
   ]
  },
  {
   "cell_type": "code",
   "execution_count": 30,
   "id": "d4a44750-57f6-4290-9624-615740f60db4",
   "metadata": {},
   "outputs": [],
   "source": [
    "grid_size = 10\n",
    "boxes = grid_size * grid_size"
   ]
  },
  {
   "cell_type": "code",
   "execution_count": 31,
   "id": "8b56cdaa",
   "metadata": {},
   "outputs": [],
   "source": [
    "#Create player class for creating instance of a player\n",
    "\n",
    "class Player():\n",
    "    def __init__(self,player_name):\n",
    "        self.player_name = player_name\n",
    "        self.current_postn = 1\n",
    "    \n",
    "    # Method for updating postion of player rolling dice\n",
    "    def roll_dice(self,dice_read):\n",
    "        self.current_postn += dice_read\n",
    "    \n",
    "    #method to reset scores after game over\n",
    "    def reset_score(self):\n",
    "        self.current_postn = 0"
   ]
  },
  {
   "cell_type": "code",
   "execution_count": 32,
   "id": "9a139a71",
   "metadata": {},
   "outputs": [],
   "source": [
    "#Function to start game\n",
    "\n",
    "def game(player, dice_read):\n",
    "    # define number of boxes/position\n",
    "    #should be a square\n",
    "    winner = \"\"\n",
    "    if player.current_postn + dice_read > boxes :\n",
    "        print(\"Score exceeds max possible position\")\n",
    "    else :\n",
    "        player.roll_dice(dice_read)\n",
    "        if player.current_postn == boxes :\n",
    "            winner = player.player_name\n",
    "            print(player.player_name, \" wins\")\n",
    "    return winner"
   ]
  },
  {
   "cell_type": "code",
   "execution_count": 39,
   "id": "080494e4",
   "metadata": {},
   "outputs": [],
   "source": [
    "# create players automatically\n",
    "players = []\n",
    "def create_players():\n",
    "    #create players if no players created yet\n",
    "    if players == []:\n",
    "        player_names = [\"1\",\"2\",\"3\",\"4\"]\n",
    "        for i in player_names:\n",
    "            p = Player(player_name=i)\n",
    "            players.append(p)"
   ]
  },
  {
   "cell_type": "code",
   "execution_count": 40,
   "id": "f4068456",
   "metadata": {},
   "outputs": [],
   "source": [
    "#reset game after game over\n",
    "def reset(players):\n",
    "    for i in players:\n",
    "        i.reset_score()"
   ]
  },
  {
   "cell_type": "code",
   "execution_count": 41,
   "id": "f6124d4c-eedd-40af-b2e9-1a01cbf711c0",
   "metadata": {},
   "outputs": [
    {
     "data": {
      "text/plain": [
       "1"
      ]
     },
     "execution_count": 41,
     "metadata": {},
     "output_type": "execute_result"
    }
   ],
   "source": [
    "#create function to get dice read automatically using random function\n",
    "import random\n",
    "def dice_roll():\n",
    "    dice_nos = range(1,7)\n",
    "    return random.choice(dice_nos)\n",
    "dice_roll()"
   ]
  },
  {
   "cell_type": "code",
   "execution_count": 69,
   "id": "01e0ae3f-6608-4e6f-a3fa-f49880cd0333",
   "metadata": {},
   "outputs": [
    {
     "name": "stdout",
     "output_type": "stream",
     "text": [
      "[9 7] [4 5]\n",
      "[9 2] [3 4]\n"
     ]
    }
   ],
   "source": [
    "arr = np.reshape(range(boxes,0,-1),(grid_size,grid_size))\n",
    "ladders = [[3,55],[8,66]]\n",
    "for i in ladders:\n",
    "    starts = tuple(np.argwhere(arr==i[0]))[0]\n",
    "    ends = tuple(np.argwhere(arr==i[1]))[0]\n",
    "    print(starts,ends)"
   ]
  },
  {
   "cell_type": "code",
   "execution_count": 73,
   "id": "2c11beb6-f0ab-4204-bb3a-38e8b40b1393",
   "metadata": {},
   "outputs": [],
   "source": [
    "import matplotlib\n",
    "cmap = matplotlib.colors.ListedColormap(['orange', 'white','skyblue','pink','gray'])\n",
    "\n",
    "def get_cmap(n, name='Oranges_r'):\n",
    "    '''Returns a function that maps each index in 0, 1, ..., n-1 to a distinct \n",
    "    RGB color; the keyword argument name must be a standard mpl colormap name.'''\n",
    "    return plt.cm.get_cmap(name, n)\n",
    "\n",
    "\n",
    "def plot_board():\n",
    "    #create figure using matplotlib\n",
    "    fig, ax = plt.subplots()\n",
    "    #dont show axes\n",
    "    plt.axis('off')\n",
    "    #set figure size\n",
    "    plt.rcParams['figure.figsize'] = [10, 10]\n",
    "    position = range(1,grid_size+1)\n",
    "    #create matrix of grid size square\n",
    "    arr = np.reshape(range(boxes,0,-1),(grid_size,grid_size))\n",
    "    ax.matshow(arr, cmap=get_cmap(boxes), )\n",
    "    for i in ladders:\n",
    "        starts = tuple(np.argwhere(arr==i[0]))[0]\n",
    "        ends = tuple(np.argwhere(arr==i[1]))[0]\n",
    "        # print(starts,ends)\n",
    "        plt.plot(ends,starts,linestyle=\"dashdot\")\n",
    "\n",
    "    for i in range(grid_size):\n",
    "        #get alternate reversed arrays\n",
    "        r = list(reversed(arr[i])) if (i+1)%2==0 else arr[i]\n",
    "        for j in range(grid_size):\n",
    "            #no of box\n",
    "            c = r[j]\n",
    "            # if c in ladders[0]: plt.plot(c,ladders[1][0])\n",
    "            #players at this position\n",
    "            plrs = [p.player_name for p in players if p.current_postn == c]\n",
    "            if plrs : c = str(c) + '\\n' + str(plrs)\n",
    "            ax.text(j, i, str(c), va='center', ha='center', size='large')\n",
    "    return plt.show()"
   ]
  },
  {
   "cell_type": "code",
   "execution_count": 74,
   "id": "47f91d19",
   "metadata": {},
   "outputs": [],
   "source": [
    "# function to play the game\n",
    "import time\n",
    "from IPython.display import display\n",
    "import ipywidgets as widgets\n",
    "\n",
    "def play(players):\n",
    "    plot_board()\n",
    "    winner = ''\n",
    "    while winner == '':\n",
    "        #show current scores of players\n",
    "        for i in players:\n",
    "            # print(i.player_name,' is at ',i.current_postn)\n",
    "            button_roll = widgets.Button(description = f'{i.player_name} : Rolling Dice')\n",
    "            display(button_roll)\n",
    "            dice_r = dice_roll()\n",
    "            #show current player\n",
    "            # print(i.player_name,' : ',dice_r)\n",
    "            winner = game(i, dice_r)\n",
    "            time.sleep(1)\n",
    "            clear_output(wait=True)\n",
    "            plot_board()\n",
    "            if winner != '':\n",
    "                print(\"Game Over\")\n",
    "                reset(players)\n",
    "                break"
   ]
  },
  {
   "cell_type": "code",
   "execution_count": 75,
   "id": "96582f2d-5cac-4b30-b737-d153da18044c",
   "metadata": {},
   "outputs": [
    {
     "data": {
      "image/png": "[encoded data removed]",
      "text/plain": [
       "<Figure size 720x720 with 1 Axes>"
      ]
     },
     "metadata": {
      "needs_background": "light"
     },
     "output_type": "display_data"
    },
    {
     "data": {
      "application/vnd.jupyter.widget-view+json": {
       "model_id": "874a9cc8fa6d4f07a43e2f4cae5fc380",
       "version_major": 2,
       "version_minor": 0
      },
      "text/plain": [
       "Button(description='2 : Rolling Dice', style=ButtonStyle())"
      ]
     },
     "metadata": {},
     "output_type": "display_data"
    },
    {
     "ename": "KeyboardInterrupt",
     "evalue": "",
     "output_type": "error",
     "traceback": [
      "\u001b[1;31m---------------------------------------------------------------------------\u001b[0m",
      "\u001b[1;31mKeyboardInterrupt\u001b[0m                         Traceback (most recent call last)",
      "Input \u001b[1;32mIn [75]\u001b[0m, in \u001b[0;36m<cell line: 2>\u001b[1;34m()\u001b[0m\n\u001b[0;32m      1\u001b[0m create_players()\n\u001b[1;32m----> 2\u001b[0m \u001b[43mplay\u001b[49m\u001b[43m(\u001b[49m\u001b[43mplayers\u001b[49m\u001b[43m)\u001b[49m\n",
      "Input \u001b[1;32mIn [74]\u001b[0m, in \u001b[0;36mplay\u001b[1;34m(players)\u001b[0m\n\u001b[0;32m     16\u001b[0m \u001b[38;5;66;03m#show current player\u001b[39;00m\n\u001b[0;32m     17\u001b[0m \u001b[38;5;66;03m# print(i.player_name,' : ',dice_r)\u001b[39;00m\n\u001b[0;32m     18\u001b[0m winner \u001b[38;5;241m=\u001b[39m game(i, dice_r)\n\u001b[1;32m---> 19\u001b[0m \u001b[43mtime\u001b[49m\u001b[38;5;241;43m.\u001b[39;49m\u001b[43msleep\u001b[49m\u001b[43m(\u001b[49m\u001b[38;5;241;43m1\u001b[39;49m\u001b[43m)\u001b[49m\n\u001b[0;32m     20\u001b[0m clear_output(wait\u001b[38;5;241m=\u001b[39m\u001b[38;5;28;01mTrue\u001b[39;00m)\n\u001b[0;32m     21\u001b[0m plot_board()\n",
      "\u001b[1;31mKeyboardInterrupt\u001b[0m: "
     ]
    }
   ],
   "source": [
    "create_players()\n",
    "play(players)"
   ]
  },
  {
   "cell_type": "code",
   "execution_count": null,
   "id": "20fa764b-e129-4e6a-8f5c-26e5e013a2d0",
   "metadata": {},
   "outputs": [],
   "source": []
  }
 ],
 "metadata": {
  "kernelspec": {
   "display_name": "Python 3 (ipykernel)",
   "language": "python",
   "name": "python3"
  },
  "language_info": {
   "codemirror_mode": {
    "name": "ipython",
    "version": 3
   },
   "file_extension": ".py",
   "mimetype": "text/x-python",
   "name": "python",
   "nbconvert_exporter": "python",
   "pygments_lexer": "ipython3",
   "version": "3.10.4"
  }
 },
 "nbformat": 4,
 "nbformat_minor": 5
}
